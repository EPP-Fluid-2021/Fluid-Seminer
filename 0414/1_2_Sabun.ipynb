{
 "cells": [
  {
   "cell_type": "code",
   "execution_count": 9,
   "metadata": {},
   "outputs": [
    {
     "data": {
      "image/png": "[encoded data removed]",
      "text/plain": [
       "<Figure size 432x288 with 1 Axes>"
      ]
     },
     "metadata": {
      "needs_background": "light"
     },
     "output_type": "display_data"
    },
    {
     "name": "stdout",
     "output_type": "stream",
     "text": [
      "3.127507672279609e-10\n"
     ]
    }
   ],
   "source": [
    "import numpy as np\n",
    "import matplotlib.pyplot as plt\n",
    "import japanize_matplotlib\n",
    "%matplotlib inline\n",
    "\n",
    "N = 100\n",
    "dt = 1/N\n",
    "y_0 = 0\n",
    "\n",
    "\n",
    "def func(t,y):\n",
    "    return t+y\n",
    "\n",
    "\n",
    "t = 0\n",
    "y = y_0\n",
    "\n",
    "t_list = [0]\n",
    "y_list = [y_0]\n",
    "\n",
    "for i in range(N):\n",
    "    # オイラー法の場合\n",
    "    \"\"\"\n",
    "    y += func(t,y)*dt\n",
    "    t += dt\n",
    "    \"\"\"\n",
    "    \n",
    "    # 後退オイラー法の場合\n",
    "    \"\"\"\n",
    "    t += dt\n",
    "    y = (y+t*dt)/(1-dt)\n",
    "    \"\"\"\n",
    "    \n",
    "    # ホイン法の場合\n",
    "    \"\"\"\n",
    "    y += ( func(t,y) + func(t+dt, y+dt*func(t,y)) )*dt/2\n",
    "    t += dt\n",
    "    \"\"\"\n",
    "\n",
    "    # ルンゲ・クッタ法の場合\n",
    "    \n",
    "    k1 = func(t,y)\n",
    "    k2 = func(t+dt/2, y+k1*dt/2)\n",
    "    k3 = func(t+dt/2, y+k2*dt/2)\n",
    "    k4 = func(t+dt, y+k3*dt)\n",
    "    y += (k1 + 2*k2 + 2*k3 + k4)*dt/6\n",
    "    t += dt\n",
    "    \n",
    "    \n",
    "    \n",
    "    t_list.append(t)\n",
    "    y_list.append(y)\n",
    "    \n",
    "\n",
    "plt.plot(t_list, y_list)\n",
    "plt.xlabel('t')\n",
    "plt.ylabel('y')\n",
    "plt.show()\n",
    "\n",
    "\n",
    "y_1_real = np.e-2\n",
    "e_rel = np.abs(( y_list[-1] - y_1_real ) / y_1_real )\n",
    "print(e_rel)"
   ]
  },
  {
   "cell_type": "code",
   "execution_count": 10,
   "metadata": {},
   "outputs": [
    {
     "data": {
      "image/png": "[encoded data removed]",
      "text/plain": [
       "<Figure size 432x288 with 1 Axes>"
      ]
     },
     "metadata": {
      "needs_background": "light"
     },
     "output_type": "display_data"
    },
    {
     "name": "stdout",
     "output_type": "stream",
     "text": [
      "3.127512309274368e-10\n"
     ]
    }
   ],
   "source": [
    "import numpy as np\n",
    "import matplotlib.pyplot as plt\n",
    "import japanize_matplotlib\n",
    "%matplotlib inline\n",
    "\n",
    "N = 100\n",
    "dt = 1/N\n",
    "y_0 = 0\n",
    "\n",
    "\n",
    "def func(t,y):\n",
    "    return t+y\n",
    "\n",
    "\n",
    "t = np.arange(0,1+dt,dt)\n",
    "\n",
    "y = np.empty(N+1)\n",
    "y[0] = y_0\n",
    " \n",
    "for i in range(N):\n",
    "    # オイラー法\n",
    "    \n",
    "    y[i+1] = y[i] + dt*func(t[i],y[i])\n",
    "    \n",
    "    \n",
    "    # 後退オイラー法\n",
    "    \"\"\"\n",
    "    y[i+1] = (y[i]+t[i+1]*dt)/(1-dt)\n",
    "    \"\"\"\n",
    "    \n",
    "    # ホイン法\n",
    "    \"\"\"\n",
    "    y[i+1] = y[i] + ( func(t[i],y[i]) + func( t[i+1], y[i]+dt*func(t[i],y[i]) ) )*dt/2\n",
    "    \"\"\"\n",
    "\n",
    "    # ルンゲ・クッタ法\n",
    "    \"\"\"\n",
    "    k1 = func(t[i],y[i])\n",
    "    k2 = func(t[i]+dt/2, y[i]+k1*dt/2)\n",
    "    k3 = func(t[i]+dt/2, y[i]+k2*dt/2)\n",
    "    k4 = func(t[i+1], y[i]+k3*dt)\n",
    "    y[i+1] = y[i] + (k1 + 2*k2 + 2*k3 + k4)*dt/6\n",
    "    \"\"\"\n",
    "\n",
    "\n",
    "plt.plot(t, y)\n",
    "plt.xlabel('t')\n",
    "plt.ylabel('y')\n",
    "plt.show()\n",
    "\n",
    "\n",
    "y_1_real = np.e-2\n",
    "e_rel = np.abs(( y[-1] - y_1_real ) / y_1_real )\n",
    "print(e_rel)"
   ]
  },
  {
   "cell_type": "code",
   "execution_count": null,
   "metadata": {},
   "outputs": [],
   "source": []
  }
 ],
 "metadata": {
  "kernelspec": {
   "display_name": "Python 3",
   "language": "python",
   "name": "python3"
  },
  "language_info": {
   "codemirror_mode": {
    "name": "ipython",
    "version": 3
   },
   "file_extension": ".py",
   "mimetype": "text/x-python",
   "name": "python",
   "nbconvert_exporter": "python",
   "pygments_lexer": "ipython3",
   "version": "3.7.6"
  }
 },
 "nbformat": 4,
 "nbformat_minor": 4
}
